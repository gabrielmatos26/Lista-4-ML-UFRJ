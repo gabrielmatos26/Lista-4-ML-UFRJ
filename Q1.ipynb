{
 "cells": [
  {
   "cell_type": "code",
   "execution_count": 1,
   "metadata": {
    "collapsed": true
   },
   "outputs": [],
   "source": [
    "import numpy as np\n",
    "import scipy as sp\n",
    "import math\n",
    "import pandas as pd\n",
    "import matplotlib.pyplot as plt\n",
    "\n",
    "%matplotlib inline"
   ]
  },
  {
   "cell_type": "code",
   "execution_count": 107,
   "metadata": {
    "collapsed": false
   },
   "outputs": [
    {
     "name": "stdout",
     "output_type": "stream",
     "text": [
      "(1172,)\n"
     ]
    },
    {
     "data": {
      "text/plain": [
       "<matplotlib.collections.PathCollection at 0x7fc6602cbe50>"
      ]
     },
     "execution_count": 107,
     "metadata": {},
     "output_type": "execute_result"
    },
    {
     "data": {
      "image/png": "[encoded data removed]",
      "text/plain": [
       "<matplotlib.figure.Figure at 0x7fc660d52750>"
      ]
     },
     "metadata": {},
     "output_type": "display_data"
    }
   ],
   "source": [
    "#Read data\n",
    "data = pd.read_csv('Dados-medicos.txt', sep='\\s+')\n",
    "data_array = data.as_matrix()\n",
    "print(data_array[:,2].shape)\n",
    "plt.scatter(data_array[:,2], data_array[:,3], color=['red'])"
   ]
  },
  {
   "cell_type": "code",
   "execution_count": 251,
   "metadata": {
    "collapsed": false
   },
   "outputs": [],
   "source": [
    "def createX(x_raw, dimension):\n",
    "    x = np.zeros((x_raw.shape[0], dimension+1))\n",
    "    x_t = np.transpose(np.array([x_raw]))\n",
    "    for i in range(dimension+1):\n",
    "        for j in range(x.shape[0]):\n",
    "            x[j,i] = x_t[j,0]**i\n",
    "    return x"
   ]
  },
  {
   "cell_type": "code",
   "execution_count": 276,
   "metadata": {
    "collapsed": false
   },
   "outputs": [],
   "source": [
    "def createWeights(x, y):\n",
    "    x_inv = np.linalg.pinv(x)\n",
    "    w = np.dot(x_inv, np.transpose(np.array([y])))\n",
    "    return w\n",
    "# x = createX(data_array[:,2], 1)\n",
    "# w = createWeights(x, data_array[:,1])\n",
    "# w.shape"
   ]
  },
  {
   "cell_type": "code",
   "execution_count": 245,
   "metadata": {
    "collapsed": true
   },
   "outputs": [],
   "source": [
    "def calculateY(x, w, bias):\n",
    "    y = bias + np.dot(x, w)\n",
    "    return y"
   ]
  },
  {
   "cell_type": "code",
   "execution_count": 217,
   "metadata": {
    "collapsed": true
   },
   "outputs": [],
   "source": [
    "def plotLine(x,y):\n",
    "    plt.plot(x,y)"
   ]
  },
  {
   "cell_type": "code",
   "execution_count": 285,
   "metadata": {
    "collapsed": false
   },
   "outputs": [
    {
     "name": "stdout",
     "output_type": "stream",
     "text": [
      "(1172, 2)\n"
     ]
    },
    {
     "data": {
      "text/plain": [
       "<matplotlib.collections.PathCollection at 0x7fc66010a650>"
      ]
     },
     "execution_count": 285,
     "metadata": {},
     "output_type": "execute_result"
    },
    {
     "data": {
      "image/png": "[encoded data removed]",
      "text/plain": [
       "<matplotlib.figure.Figure at 0x7fc660646e90>"
      ]
     },
     "metadata": {},
     "output_type": "display_data"
    }
   ],
   "source": [
    "x = createX(data_array[:,2], 1)\n",
    "w = createWeights(x, data_array[:,1])\n",
    "y = calculateY(x, w, 0)\n",
    "print(x.shape)\n",
    "plotLine(x[:,1], y)\n",
    "plt.scatter(data_array[:,2], data_array[:,3], color=['red'])"
   ]
  },
  {
   "cell_type": "code",
   "execution_count": null,
   "metadata": {
    "collapsed": true
   },
   "outputs": [],
   "source": []
  }
 ],
 "metadata": {
  "kernelspec": {
   "display_name": "Python [Root]",
   "language": "python",
   "name": "Python [Root]"
  },
  "language_info": {
   "codemirror_mode": {
    "name": "ipython",
    "version": 2
   },
   "file_extension": ".py",
   "mimetype": "text/x-python",
   "name": "python",
   "nbconvert_exporter": "python",
   "pygments_lexer": "ipython2",
   "version": "2.7.12"
  }
 },
 "nbformat": 4,
 "nbformat_minor": 0
}
